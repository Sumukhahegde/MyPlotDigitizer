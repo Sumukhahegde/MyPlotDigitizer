{
 "cells": [
  {
   "cell_type": "code",
   "execution_count": 53,
   "metadata": {},
   "outputs": [
    {
     "name": "stdout",
     "output_type": "stream",
     "text": [
      "Value for x min13\n",
      "Value for y min0\n",
      "Pick the point for x and y min\n",
      "Value for x max19\n",
      "Pick the point for x max\n",
      "Value for y max800\n",
      "Pick a point for y max\n",
      "Pick points on the graph\n",
      "[[  12.96915167  231.40495868]\n",
      " [  13.9562982   275.48209366]\n",
      " [  14.97429306  343.80165289]\n",
      " [  15.97686375  436.36363636]\n",
      " [  17.01028278  590.63360882]\n",
      " [  17.99742931  531.12947658]\n",
      " [  19.04627249  643.5261708 ]]\n"
     ]
    }
   ],
   "source": [
    "import numpy as np\n",
    "import cv2\n",
    "\n",
    "#input an image\n",
    "f = cv2.imread('/Users/suhasjain/Desktop/pic.jpg')\n",
    "\n",
    "#displays image\n",
    "cv2.imshow(\"image\",f)\n",
    "\n",
    "#initialize list of reference points\n",
    "p = []\n",
    "\n",
    "def xy_min(event, x, y, flags, param):\n",
    "    global x_min,y_min\n",
    "    if event == cv2.EVENT_LBUTTONDOWN:\n",
    "        x_min = x\n",
    "        y_min = y\n",
    "        \n",
    "def xmax(event, x, y, flags, param):\n",
    "    global x_max\n",
    "    if event == cv2.EVENT_LBUTTONDOWN:\n",
    "        x_max = x\n",
    "        \n",
    "def ymax(event, x, y, flags, param):\n",
    "    global y_max\n",
    "    if event == cv2.EVENT_LBUTTONDOWN:\n",
    "        y_max = y\n",
    "        \n",
    "def points(event, x, y, flags, param):\n",
    "    global points\n",
    "    if event == cv2.EVENT_LBUTTONDOWN:\n",
    "        p.append([x, y])  \n",
    "    \n",
    "while True:\n",
    "    global ux_min, uy_min\n",
    "    \n",
    "    key = cv2.waitKey(0)\n",
    "    \n",
    "    \n",
    "    if key == ord(\"1\"):\n",
    "        ux_min = float(input(\"Value for x min\"))\n",
    "        uy_min = float(input(\"Value for y min\"))\n",
    "        print(\"Pick the point for x and y min\")\n",
    "        cv2.setMouseCallback(\"image\", xy_min)\n",
    "       \n",
    "        \n",
    "    if key == ord(\"2\"):\n",
    "        ux_max = float(input(\"Value for x max\"))\n",
    "        print(\"Pick the point for x max\")\n",
    "        cv2.setMouseCallback(\"image\", xmax)\n",
    "        \n",
    "    if key == ord(\"3\"):\n",
    "        uy_max = float(input(\"Value for y max\"))\n",
    "        print(\"Pick a point for y max\")\n",
    "        cv2.setMouseCallback(\"image\", ymax)\n",
    "        \n",
    "    if key == ord(\"p\"):\n",
    "        print(\"Pick points on the graph\")\n",
    "        cv2.setMouseCallback(\"image\", points)\n",
    "        \n",
    "    elif key == ord(\"d\"):\n",
    "        a = (ux_max-ux_min)/(x_max-x_min)\n",
    "        b = (uy_max-uy_min)/(y_max-y_min)\n",
    "        pp = np.asfarray(p)\n",
    "        pp[:,0] = ux_min + a*(pp[:,0] - float(x_min))\n",
    "        pp[:,1] = uy_min + b*(pp[:,1] - float(y_min))\n",
    "        print(pp)\n",
    "        break\n",
    "\n",
    "\n",
    "\n",
    "#destroys all windows created\n",
    "cv2.destroyAllWindows()"
   ]
  },
  {
   "cell_type": "code",
   "execution_count": 44,
   "metadata": {
    "collapsed": true
   },
   "outputs": [],
   "source": [
    "import numpy as np\n",
    "p = np.array(p)"
   ]
  },
  {
   "cell_type": "code",
   "execution_count": 45,
   "metadata": {},
   "outputs": [
    {
     "data": {
      "text/plain": [
       "array([[ 64, 306],\n",
       "       [129, 286],\n",
       "       [192, 254],\n",
       "       [258, 212],\n",
       "       [322, 141],\n",
       "       [390, 169],\n",
       "       [452, 117]])"
      ]
     },
     "execution_count": 45,
     "metadata": {},
     "output_type": "execute_result"
    }
   ],
   "source": [
    "p"
   ]
  },
  {
   "cell_type": "code",
   "execution_count": 52,
   "metadata": {},
   "outputs": [
    {
     "ename": "NameError",
     "evalue": "name 'g' is not defined",
     "output_type": "error",
     "traceback": [
      "\u001b[0;31m---------------------------------------------------------------------------\u001b[0m",
      "\u001b[0;31mNameError\u001b[0m                                 Traceback (most recent call last)",
      "\u001b[0;32m<ipython-input-52-9b61a27fcf84>\u001b[0m in \u001b[0;36m<module>\u001b[0;34m()\u001b[0m\n\u001b[0;32m----> 1\u001b[0;31m \u001b[0mg\u001b[0m\u001b[0;34m[\u001b[0m\u001b[0;34m:\u001b[0m\u001b[0;34m,\u001b[0m\u001b[0;36m0\u001b[0m\u001b[0;34m]\u001b[0m \u001b[0;34m=\u001b[0m \u001b[0mux_min\u001b[0m \u001b[0;34m+\u001b[0m \u001b[0ma\u001b[0m\u001b[0;34m*\u001b[0m\u001b[0;34m(\u001b[0m\u001b[0mp\u001b[0m\u001b[0;34m[\u001b[0m\u001b[0;34m:\u001b[0m\u001b[0;34m,\u001b[0m\u001b[0;36m0\u001b[0m\u001b[0;34m]\u001b[0m \u001b[0;34m-\u001b[0m \u001b[0mfloat\u001b[0m\u001b[0;34m(\u001b[0m\u001b[0mx_min\u001b[0m\u001b[0;34m)\u001b[0m\u001b[0;34m)\u001b[0m\u001b[0;34m\u001b[0m\u001b[0m\n\u001b[0m",
      "\u001b[0;31mNameError\u001b[0m: name 'g' is not defined"
     ]
    }
   ],
   "source": [
    "g[:,0] = ux_min + a*(p[:,0] - float(x_min))"
   ]
  },
  {
   "cell_type": "code",
   "execution_count": 50,
   "metadata": {},
   "outputs": [
    {
     "data": {
      "text/plain": [
       "array([13, 14, 14, 15, 16, 18, 18])"
      ]
     },
     "execution_count": 50,
     "metadata": {},
     "output_type": "execute_result"
    }
   ],
   "source": [
    "p[:,0]"
   ]
  },
  {
   "cell_type": "code",
   "execution_count": null,
   "metadata": {
    "collapsed": true
   },
   "outputs": [],
   "source": []
  }
 ],
 "metadata": {
  "kernelspec": {
   "display_name": "Python 3",
   "language": "python",
   "name": "python3"
  },
  "language_info": {
   "codemirror_mode": {
    "name": "ipython",
    "version": 3
   },
   "file_extension": ".py",
   "mimetype": "text/x-python",
   "name": "python",
   "nbconvert_exporter": "python",
   "pygments_lexer": "ipython3",
   "version": "3.6.1"
  }
 },
 "nbformat": 4,
 "nbformat_minor": 2
}
